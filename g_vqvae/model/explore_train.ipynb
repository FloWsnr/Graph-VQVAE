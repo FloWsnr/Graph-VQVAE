{
 "cells": [
  {
   "cell_type": "code",
   "execution_count": 1,
   "metadata": {},
   "outputs": [],
   "source": [
    "import torch\n",
    "from pathlib import Path\n",
    "from g_vqvae.model.graph.graph_vqvae import G_VQVAE\n",
    "from g_vqvae.data.dataset import get_standard_dataset\n"
   ]
  },
  {
   "cell_type": "code",
   "execution_count": null,
   "metadata": {},
   "outputs": [],
   "source": [
    "# small training loop\n",
    "dataset = get_standard_dataset(\"ZINC\", save_dir=Path(r\"C:\\Users\\zsa8rk\\Coding\\Graph-VQVAE\\data\"))\n",
    "\n",
    "model = G_VQVAE(\n",
    "    in_channels=dataset.num_node_features,\n",
    "    codebook_size=1024,\n",
    "    codebook_dim=256,\n",
    "    commitment_cost=0.25,\n",
    ")\n",
    "\n",
    "optimizer = torch.optim.Adam(model.parameters(), lr=1e-3)\n",
    "\n",
    "for epoch in range(10):\n",
    "    for data in dataset:\n",
    "        optimizer.zero_grad()\n",
    "        x_recon, loss, indices = model(data)\n",
    "        loss.backward()\n",
    "        optimizer.step()\n",
    "\n",
    "        print(f\"Epoch {epoch}, Loss: {loss.item()}\")\n",
    "\n",
    "\n"
   ]
  }
 ],
 "metadata": {
  "kernelspec": {
   "display_name": "Python 3",
   "language": "python",
   "name": "python3"
  },
  "language_info": {
   "codemirror_mode": {
    "name": "ipython",
    "version": 3
   },
   "file_extension": ".py",
   "mimetype": "text/x-python",
   "name": "python",
   "nbconvert_exporter": "python",
   "pygments_lexer": "ipython3",
   "version": "3.13.3"
  }
 },
 "nbformat": 4,
 "nbformat_minor": 2
}
